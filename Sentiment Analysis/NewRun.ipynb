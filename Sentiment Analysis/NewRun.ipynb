{
 "cells": [
  {
   "cell_type": "code",
   "execution_count": null,
   "id": "3b82d544",
   "metadata": {},
   "outputs": [],
   "source": [
    "#import needed libraries\n",
    "import pandas as pd\n",
    "import requests\n",
    "from pprint import pprint\n",
    "import numpy as np\n",
    "import spacy\n",
    "import en_core_web_sm\n",
    "import nltk\n",
    "from nltk.sentiment.vader import SentimentIntensityAnalyzer\n",
    "from collections import Counter"
   ]
  },
  {
   "cell_type": "code",
   "execution_count": null,
   "id": "11b109b2",
   "metadata": {},
   "outputs": [],
   "source": [
    "#install newsapi\n",
    "pip install newsapi-python"
   ]
  },
  {
   "cell_type": "code",
   "execution_count": null,
   "id": "511d8c0d",
   "metadata": {},
   "outputs": [],
   "source": [
    "#import api client\n",
    "from newsapi import NewsApiClient"
   ]
  },
  {
   "cell_type": "code",
   "execution_count": null,
   "id": "5bfd3660",
   "metadata": {},
   "outputs": [],
   "source": [
    "#install JupyterDash\n",
    "pip install dash"
   ]
  },
  {
   "cell_type": "code",
   "execution_count": null,
   "id": "6b4baa77",
   "metadata": {},
   "outputs": [],
   "source": [
    "#import Dash client\n",
    "from dash import Dash, dcc, html, Input, Output"
   ]
  },
  {
   "cell_type": "code",
   "execution_count": null,
   "id": "a7f41bc5",
   "metadata": {},
   "outputs": [],
   "source": [
    "#api key from newsapi.org\n",
    "newsapi = NewsApiClient(api_key = '225441a3229b4c42886dd018d1a29ba2')"
   ]
  },
  {
   "cell_type": "code",
   "execution_count": null,
   "id": "27465506",
   "metadata": {},
   "outputs": [],
   "source": [
    "#Requst all English articles between 03/10/23 - 03/14/23 with key words bank failure\n",
    "articles_1 = newsapi.get_everything(q='bank failure',\n",
    "                                      from_param='2023-03-10',\n",
    "                                      to='2023-03-16',   \n",
    "                                      language='en',\n",
    "                                      sort_by='relevancy')\n"
   ]
  },
  {
   "cell_type": "code",
   "execution_count": null,
   "id": "33dd25de",
   "metadata": {},
   "outputs": [],
   "source": [
    "#Preview results of api call\n",
    "articles_1"
   ]
  },
  {
   "cell_type": "code",
   "execution_count": null,
   "id": "6ae89b89",
   "metadata": {},
   "outputs": [],
   "source": [
    "#Requst all English articles between 03/10/23 - 03/14/23 with key words svb\n",
    "articles_2 = newsapi.get_everything(q='svb',\n",
    "                                      from_param='2023-03-10',\n",
    "                                      to='2023-03-16',   \n",
    "                                      language='en',\n",
    "                                      sort_by='relevancy')"
   ]
  },
  {
   "cell_type": "code",
   "execution_count": null,
   "id": "d4b19d9b",
   "metadata": {},
   "outputs": [],
   "source": [
    "articles_2"
   ]
  },
  {
   "cell_type": "code",
   "execution_count": null,
   "id": "d3fd1129",
   "metadata": {},
   "outputs": [],
   "source": [
    "#Requst all English articles between 03/10/23 - 03/14/23 with key words bankrun, bank failure, bank collapse, or credit suisse\n",
    "articles_3 = newsapi.get_everything(q='bankrun'or 'bank failure' or 'bank collapse' or 'credit suisse',\n",
    "                                      from_param='2023-03-10',\n",
    "                                      to='2023-03-16',   \n",
    "                                      language='en',\n",
    "                                      sort_by='relevancy')"
   ]
  },
  {
   "cell_type": "code",
   "execution_count": null,
   "id": "234849cd",
   "metadata": {},
   "outputs": [],
   "source": [
    "articles_3"
   ]
  },
  {
   "cell_type": "code",
   "execution_count": null,
   "id": "5852dffb",
   "metadata": {},
   "outputs": [],
   "source": [
    "len(articles_1['articles'])"
   ]
  },
  {
   "cell_type": "code",
   "execution_count": null,
   "id": "3c51cec0",
   "metadata": {},
   "outputs": [],
   "source": [
    "len(articles_2['articles'])"
   ]
  },
  {
   "cell_type": "code",
   "execution_count": null,
   "id": "7a96cce2",
   "metadata": {},
   "outputs": [],
   "source": [
    "len(articles_3['articles'])"
   ]
  },
  {
   "cell_type": "code",
   "execution_count": null,
   "id": "9125bcae",
   "metadata": {},
   "outputs": [],
   "source": [
    "#convert api results to dataframe\n",
    "df_1 = pd.DataFrame(articles_1['articles'])\n",
    "df_2 = pd.DataFrame(articles_2['articles'])\n",
    "df_3 = pd.DataFrame(articles_3['articles'])"
   ]
  },
  {
   "cell_type": "code",
   "execution_count": null,
   "id": "d2969669",
   "metadata": {},
   "outputs": [],
   "source": [
    "#create list of dataframes\n",
    "frames = [df_1, df_2, df_3]"
   ]
  },
  {
   "cell_type": "code",
   "execution_count": null,
   "id": "ffd5761d",
   "metadata": {},
   "outputs": [],
   "source": [
    "#concate all dataframes into one dataframe\n",
    "all_articles = pd.concat(frames)"
   ]
  },
  {
   "cell_type": "code",
   "execution_count": null,
   "id": "e7093306",
   "metadata": {},
   "outputs": [],
   "source": [
    "#Look at the shape of the dataframe to ensure all results are included\n",
    "all_articles.shape"
   ]
  },
  {
   "cell_type": "code",
   "execution_count": null,
   "id": "a7d5fbb0",
   "metadata": {},
   "outputs": [],
   "source": [
    "#preview dataframe\n",
    "all_articles.head()"
   ]
  },
  {
   "cell_type": "code",
   "execution_count": null,
   "id": "0d9339d5",
   "metadata": {},
   "outputs": [],
   "source": [
    "#export dataframe to csv\n",
    "all_articles.to_csv('all_articlesupdated.csv')"
   ]
  },
  {
   "cell_type": "code",
   "execution_count": null,
   "id": "8aacc01a",
   "metadata": {},
   "outputs": [],
   "source": []
  }
 ],
 "metadata": {
  "kernelspec": {
   "display_name": "Python 3 (ipykernel)",
   "language": "python",
   "name": "python3"
  },
  "language_info": {
   "codemirror_mode": {
    "name": "ipython",
    "version": 3
   },
   "file_extension": ".py",
   "mimetype": "text/x-python",
   "name": "python",
   "nbconvert_exporter": "python",
   "pygments_lexer": "ipython3",
   "version": "3.9.13"
  }
 },
 "nbformat": 4,
 "nbformat_minor": 5
}
